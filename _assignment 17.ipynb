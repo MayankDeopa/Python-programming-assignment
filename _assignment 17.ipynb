{
 "cells": [
  {
   "cell_type": "markdown",
   "id": "5e506974",
   "metadata": {},
   "source": [
    "1.Create a function that takes three arguments a, b, c and returns the sum of the numbers that are evenly divided by c from the range a, b inclusive ?"
   ]
  },
  {
   "cell_type": "markdown",
   "id": "bcb6405c",
   "metadata": {},
   "source": [
    "Examples: `evenly_divisible(1, 10, 20) ➞ 0\n",
    "\n",
    "No number between 1 and 10 can be evenly divided by 20.\n",
    "evenly_divisible(1, 10, 2) ➞ 30\n",
    "\n",
    "2 + 4 + 6 + 8 + 10 = 30\n",
    "evenly_divisible(1, 10, 3) ➞ 18\n",
    "\n",
    "3 + 6 + 9 = 18"
   ]
  },
  {
   "cell_type": "code",
   "execution_count": 1,
   "id": "101e6a80",
   "metadata": {},
   "outputs": [
    {
     "name": "stdout",
     "output_type": "stream",
     "text": [
      "(1, 10, 20) ➞ 0\n",
      "(1, 10, 2) ➞ 30\n",
      "(1, 10, 3) ➞ 18\n"
     ]
    }
   ],
   "source": [
    "def evenDivisible(a,b,c):\n",
    "    divList = []\n",
    "    for num in range(a,b+1):\n",
    "        if num%c == 0:\n",
    "            divList.append(num)\n",
    "    print(f'{a,b,c} ➞ {sum(divList)}')\n",
    "\n",
    "evenDivisible(1,10,20)\n",
    "evenDivisible(1,10,2)\n",
    "evenDivisible(1,10,3)"
   ]
  },
  {
   "cell_type": "markdown",
   "id": "71552bb0",
   "metadata": {},
   "source": [
    "Q2.Create a function that returns True if a given inequality expression is correct and False otherwise ?"
   ]
  },
  {
   "cell_type": "markdown",
   "id": "a205e087",
   "metadata": {},
   "source": [
    "Examples: correct_signs(\"3 < 7 < 11\") ➞ True correct_signs(\"13 > 44 > 33 > 1\") ➞ False correct_signs(\"1 < 2 < 6 < 9 > 3\") ➞ True"
   ]
  },
  {
   "cell_type": "code",
   "execution_count": 1,
   "id": "5f224508",
   "metadata": {},
   "outputs": [
    {
     "name": "stdout",
     "output_type": "stream",
     "text": [
      "Enter the inequality:  3 < 7 < 11\n",
      " 3 < 7 < 11 ➞ True\n",
      "Enter the inequality:  3 < 7 < 11\n",
      " 3 < 7 < 11 ➞ True\n"
     ]
    }
   ],
   "source": [
    "def checkEquality():\n",
    "    in_string = input('Enter the inequality: ')\n",
    "    out_bool = eval(in_string)\n",
    "    print(f'{in_string} ➞ {out_bool}')\n",
    "\n",
    "for x in range():\n",
    "    checkEquality()"
   ]
  },
  {
   "cell_type": "markdown",
   "id": "8d6d5901",
   "metadata": {},
   "source": [
    "Q3.Create a function that replaces all the vowels in a string with a specified character ?\n"
   ]
  },
  {
   "cell_type": "markdown",
   "id": "404d719e",
   "metadata": {},
   "source": [
    "Examples: replace_vowels(\"the aardvark\", \"#\") ➞ \"th# ##rdv#rk\" replace_vowels(\"minnie mouse\", \"?\") ➞ \"m?nn?? m??s?\" replace_vowels(\"shakespeare\", \"*\") ➞ \"shksp**r\""
   ]
  },
  {
   "cell_type": "code",
   "execution_count": 1,
   "id": "d1e5de9a",
   "metadata": {},
   "outputs": [
    {
     "name": "stdout",
     "output_type": "stream",
     "text": [
      "String: hello\n",
      "Replacement character: @\n",
      "hello @ ➞ h@ll@\n",
      "String: world\n",
      "Replacement character: *\n",
      "world * ➞ w*rld\n"
     ]
    }
   ],
   "source": [
    "def replaceVowels():\n",
    "    vowels = ['a','e','i','o','u','A','E','I','O','U']\n",
    "    in_string = input(\"String: \")\n",
    "    in_string_copy = in_string\n",
    "    in_char = input('Replacement character: ')\n",
    "    for ele in in_string:\n",
    "        if ele in vowels:\n",
    "            in_string = in_string.replace(ele,in_char)\n",
    "    print(f'{in_string_copy} {in_char} ➞ {in_string}')\n",
    "            \n",
    "for x in range(2):\n",
    "    replaceVowels()"
   ]
  },
  {
   "cell_type": "markdown",
   "id": "9b46d348",
   "metadata": {},
   "source": [
    "4.Write a function that calculates the factorial of a number recursively ?\n"
   ]
  },
  {
   "cell_type": "markdown",
   "id": "baa3ec62",
   "metadata": {},
   "source": [
    "Examples: factorial(5) ➞ 120 factorial(3) ➞ 6 factorial(1) ➞ 1 factorial(0) ➞ 1\n"
   ]
  },
  {
   "cell_type": "code",
   "execution_count": 2,
   "id": "0ff78d95",
   "metadata": {},
   "outputs": [
    {
     "name": "stdout",
     "output_type": "stream",
     "text": [
      "factorial(5) ➞ 120\n",
      "factorial(3) ➞ 6\n",
      "factorial(1) ➞ 1\n",
      "factorial(0) ➞ 1\n"
     ]
    }
   ],
   "source": [
    "\n",
    "def factorial(n):\n",
    "    if n==0:\n",
    "        return 1\n",
    "    return n * factorial(n-1)\n",
    "\n",
    "print(f'factorial(5) ➞ {factorial(5)}')\n",
    "print(f'factorial(3) ➞ {factorial(3)}')\n",
    "print(f'factorial(1) ➞ {factorial(1)}')\n",
    "print(f'factorial(0) ➞ {factorial(0)}')"
   ]
  },
  {
   "cell_type": "markdown",
   "id": "6952f7ab",
   "metadata": {},
   "source": [
    "5.Hamming distance is the number of characters that differ between two strings ?"
   ]
  },
  {
   "cell_type": "markdown",
   "id": "9b70dde3",
   "metadata": {},
   "source": [
    "To illustrate: String1: \"abcbba\" String2: \"abcbda\" Hamming Distance: 1 - \"b\" vs. \"d\" is the only difference. Create a function that computes the hamming distance between two strings. Examples: hamming_distance(\"abcde\", \"bcdef\") ➞ 5 hamming_distance(\"abcde\", \"abcde\") ➞ 0 hamming_distance(\"strong\", \"strung\") ➞ 1"
   ]
  },
  {
   "cell_type": "code",
   "execution_count": 3,
   "id": "c1eb60a6",
   "metadata": {},
   "outputs": [
    {
     "name": "stdout",
     "output_type": "stream",
     "text": [
      "Enter the String_1: hello\n",
      "Enter the String_2: world\n",
      "Hamning Distance b/w hello and world ➞ 4\n",
      "Enter the String_1: bro \n",
      "Enter the String_2: code\n",
      "Hamning Distance b/w bro  and code ➞ 4\n",
      "Enter the String_1: harry \n",
      "Enter the String_2: potter\n",
      "Hamning Distance b/w harry  and potter ➞ 6\n"
     ]
    }
   ],
   "source": [
    "\n",
    "def genHamDistance():\n",
    "    in_string_1 = input('Enter the String_1: ')\n",
    "    in_string_2 = input('Enter the String_2: ')\n",
    "    if len(in_string_1) == len(in_string_2):\n",
    "        count = 0\n",
    "        for i in range(len(in_string_1)):\n",
    "            if in_string_1[i] != in_string_2[i]:\n",
    "                count = count+1\n",
    "        print(f'Hamning Distance b/w {in_string_1} and {in_string_2} ➞ {count}')\n",
    "    else:\n",
    "        print('Both Strings Must be of Same Length')\n",
    "\n",
    "for x in range(3):\n",
    "    genHamDistance()"
   ]
  }
 ],
 "metadata": {
  "kernelspec": {
   "display_name": "Python 3 (ipykernel)",
   "language": "python",
   "name": "python3"
  },
  "language_info": {
   "codemirror_mode": {
    "name": "ipython",
    "version": 3
   },
   "file_extension": ".py",
   "mimetype": "text/x-python",
   "name": "python",
   "nbconvert_exporter": "python",
   "pygments_lexer": "ipython3",
   "version": "3.9.12"
  }
 },
 "nbformat": 4,
 "nbformat_minor": 5
}
