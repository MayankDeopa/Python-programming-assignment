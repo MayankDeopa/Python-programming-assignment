{
 "cells": [
  {
   "cell_type": "markdown",
   "id": "8c2ecd1b",
   "metadata": {},
   "source": [
    "Q1.Write a Python Program to find sum of elements in a list ?"
   ]
  },
  {
   "cell_type": "code",
   "execution_count": 2,
   "id": "e35e0c91",
   "metadata": {},
   "outputs": [
    {
     "name": "stdout",
     "output_type": "stream",
     "text": [
      "Sum of all elements in given list:  74\n"
     ]
    }
   ],
   "source": [
    " \n",
    "total = 0\n",
    " \n",
    "# creating a list\n",
    "list1 = [11, 5, 17, 18, 23]\n",
    " \n",
    "# Iterate each element in list\n",
    "# and add them in variable total\n",
    "for ele in range(0, len(list1)):\n",
    "    total = total + list1[ele]\n",
    " \n",
    "# printing total value\n",
    "print(\"Sum of all elements in given list: \", total)"
   ]
  },
  {
   "cell_type": "markdown",
   "id": "9f7607cc",
   "metadata": {},
   "source": [
    "Q2.Write a Python Program to multiply all numbers in the list ?"
   ]
  },
  {
   "cell_type": "code",
   "execution_count": 3,
   "id": "f6031b07",
   "metadata": {},
   "outputs": [
    {
     "name": "stdout",
     "output_type": "stream",
     "text": [
      "Enter the No of Entries in a List: 3\n",
      "Enter a element: 4\n",
      "Enter a element: 5\n",
      "Enter a element: 6\n",
      "120\n"
     ]
    }
   ],
   "source": [
    "def mulofList():\n",
    "    in_ele = int(input('Enter the No of Entries in a List: '))\n",
    "    in_list = []\n",
    "    mul = 1\n",
    "    for itr in range(in_ele):\n",
    "        in_list.append(int(input('Enter a element: ')))\n",
    "    for ele in in_list:\n",
    "        mul = mul * ele\n",
    "    print(mul)\n",
    "\n",
    "mulofList()"
   ]
  },
  {
   "cell_type": "markdown",
   "id": "5c5b263c",
   "metadata": {},
   "source": [
    "Q3.Write a Python Program to find smallest number in the list ?"
   ]
  },
  {
   "cell_type": "code",
   "execution_count": 4,
   "id": "08fe5ed7",
   "metadata": {},
   "outputs": [
    {
     "name": "stdout",
     "output_type": "stream",
     "text": [
      "Enter the No of elements in a list: 3\n",
      "Enter a Element: 1\n",
      "Enter a Element: 4\n",
      "Enter a Element: 8\n",
      "The Smallest Element in [1, 4, 8] is 1\n"
     ]
    }
   ],
   "source": [
    "def small():\n",
    "    in_ele = int(input('Enter the No of elements in a list: '))\n",
    "    in_list = []\n",
    "    for ele in range(in_ele):\n",
    "        in_list.append(int(input('Enter a Element: ')))\n",
    "    print(f'The Smallest Element in {in_list} is {sorted(in_list)[0]}')\n",
    "small()"
   ]
  },
  {
   "cell_type": "markdown",
   "id": "5743a80e",
   "metadata": {},
   "source": [
    "Q4.Write a Python Program to find largest number in the list ?"
   ]
  },
  {
   "cell_type": "code",
   "execution_count": 5,
   "id": "39c0d5c8",
   "metadata": {},
   "outputs": [
    {
     "name": "stdout",
     "output_type": "stream",
     "text": [
      "Enter the No of elements in a list: 3\n",
      "Enter a Element: 9\n",
      "Enter a Element: 8\n",
      "Enter a Element: 0\n",
      "The Largest Element in [9, 8, 0] is 9\n"
     ]
    }
   ],
   "source": [
    "def largest():\n",
    "    in_ele = int(input('Enter the No of elements in a list: '))\n",
    "    in_list = []\n",
    "    for ele in range(in_ele):\n",
    "        in_list.append(int(input('Enter a Element: ')))\n",
    "    print(f'The Largest Element in {in_list} is {sorted(in_list, reverse=True)[0]}')\n",
    "\n",
    "largest()"
   ]
  },
  {
   "cell_type": "markdown",
   "id": "9dd073fa",
   "metadata": {},
   "source": [
    "5.Write a Python Program to find second largest number in the list ?"
   ]
  },
  {
   "cell_type": "code",
   "execution_count": 6,
   "id": "26e7b16e",
   "metadata": {},
   "outputs": [
    {
     "name": "stdout",
     "output_type": "stream",
     "text": [
      "Enter the No of elements in a list: 3\n",
      "Enter a Element: 1\n",
      "Enter a Element: 6\n",
      "Enter a Element: 9\n",
      "The Second Largest Element in [1, 6, 9] is 6\n"
     ]
    }
   ],
   "source": [
    "def secondLargestEleInList():\n",
    "    in_ele = int(input('Enter the No of elements in a list: '))\n",
    "    in_list = []\n",
    "    for ele in range(in_ele):\n",
    "        in_list.append(int(input('Enter a Element: ')))\n",
    "    print(f'The Second Largest Element in {in_list} is {sorted(in_list, reverse=True)[1]}')\n",
    "\n",
    "secondLargestEleInList()"
   ]
  },
  {
   "cell_type": "markdown",
   "id": "fce91c0a",
   "metadata": {},
   "source": [
    "6.Write a Python Program to find N largest elements in the list ?"
   ]
  },
  {
   "cell_type": "code",
   "execution_count": 10,
   "id": "5de2bc7c",
   "metadata": {},
   "outputs": [
    {
     "name": "stdout",
     "output_type": "stream",
     "text": [
      "Enter the No of elements in a list: 5\n",
      "Enter a Element: 1\n",
      "Enter a Element: 2\n",
      "Enter a Element: 4\n",
      "Enter a Element: 5\n",
      "Enter a Element: 8\n",
      "The 4 Largest Element in [1, 2, 4, 5, 8] is [8, 5, 4, 2]\n"
     ]
    }
   ],
   "source": [
    "  def nLargestEleInList(k):\n",
    "    in_ele = int(input('Enter the No of elements in a list: '))\n",
    "    in_list = []\n",
    "    for ele in range(in_ele):\n",
    "        in_list.append(int(input('Enter a Element: ')))\n",
    "    print(f'The {k} Largest Element in {in_list} is {sorted(in_list, reverse=True)[0:k]}')\n",
    "\n",
    "nLargestEleInList(4)"
   ]
  },
  {
   "cell_type": "markdown",
   "id": "c9908e79",
   "metadata": {},
   "source": [
    "Q7.Write a Python Program to find even numbers in the list ?"
   ]
  },
  {
   "cell_type": "code",
   "execution_count": 11,
   "id": "f57acff4",
   "metadata": {},
   "outputs": [
    {
     "name": "stdout",
     "output_type": "stream",
     "text": [
      "Enter the No of elements in a list: 3\n",
      "Enter a Element: 4\n",
      "Enter a Element: 7\n",
      "Enter a Element: 9\n",
      "The Even Elements in [4, 7, 9] are [4]\n"
     ]
    }
   ],
   "source": [
    "def evenNoInList():\n",
    "    in_ele = int(input('Enter the No of elements in a list: '))\n",
    "    in_list = []\n",
    "    even_list = []\n",
    "    for ele in range(in_ele):\n",
    "        in_list.append(int(input('Enter a Element: ')))\n",
    "    for ele in in_list:\n",
    "        if ele%2 == 0:\n",
    "            even_list.append(ele)\n",
    "    print(f'The Even Elements in {in_list} are {even_list}')\n",
    "\n",
    "evenNoInList()"
   ]
  },
  {
   "cell_type": "markdown",
   "id": "41eec4da",
   "metadata": {},
   "source": [
    "Q8.Write a Python Program to find odd numbers in the list ?"
   ]
  },
  {
   "cell_type": "code",
   "execution_count": 13,
   "id": "c3b6b4ed",
   "metadata": {},
   "outputs": [
    {
     "name": "stdout",
     "output_type": "stream",
     "text": [
      "21 45 93 "
     ]
    }
   ],
   "source": [
    " list1 = [10, 21, 4, 45, 66, 93]\n",
    "i = 0\n",
    " \n",
    "# using while loop\n",
    "while(i < len(list1)):\n",
    " \n",
    "    # checking condition\n",
    "    if list1[i] % 2 != 0:\n",
    "        print(list1[i], end=\" \")\n",
    " \n",
    "    # increment i\n",
    "    i += 1"
   ]
  },
  {
   "cell_type": "markdown",
   "id": "71663365",
   "metadata": {},
   "source": [
    "Q9.Write a Python Program to remove empty list from list ?"
   ]
  },
  {
   "cell_type": "code",
   "execution_count": 15,
   "id": "bd8cc771",
   "metadata": {},
   "outputs": [
    {
     "name": "stdout",
     "output_type": "stream",
     "text": [
      "Enter all elements of the list:  [1,2,3,4,5,[],6,7,8,9,0]\n",
      "There is an Empty list in [1, 2, 3, 4, 5, [], 6, 7, 8, 9, 0] at Position 5\n",
      "The List after removing [] is [1, 2, 3, 4, 5, 6, 7, 8, 9, 0]\n"
     ]
    }
   ],
   "source": [
    "def checkEmptyList():\n",
    "    in_list = eval(input('Enter all elements of the list: '))\n",
    "    if [] in in_list:\n",
    "        print(f'There is an Empty list in {in_list} at Position {in_list.index([])}')\n",
    "        in_list.remove([])\n",
    "        print(f'The List after removing [] is {in_list}')\n",
    "    else:\n",
    "        print(f'There is no [] List in the list {in_list}')\n",
    "        \n",
    "checkEmptyList()"
   ]
  },
  {
   "cell_type": "markdown",
   "id": "625f3410",
   "metadata": {},
   "source": [
    "Q10.Write a Python Program to Cloning or Copying a list ?"
   ]
  },
  {
   "cell_type": "code",
   "execution_count": 16,
   "id": "75af14fb",
   "metadata": {},
   "outputs": [
    {
     "name": "stdout",
     "output_type": "stream",
     "text": [
      "Enter a list[1,2,3,4,5,6,7,8,9,0]\n",
      "[1, 2, 3, 4, 5, 6, 7, 8, 9, 0] 1980925835648\n",
      "[1, 2, 3, 4, 5, 6, 7, 8, 9, 0] 1980925028032\n"
     ]
    }
   ],
   "source": [
    "import copy\n",
    "\n",
    "def cloneList():\n",
    "    in_list = eval(input('Enter a list'))\n",
    "    print(in_list, id(in_list))\n",
    "    cloned_list = in_list.copy()\n",
    "    print(cloned_list, id(cloned_list))\n",
    "\n",
    "cloneList()"
   ]
  },
  {
   "cell_type": "markdown",
   "id": "43243d27",
   "metadata": {},
   "source": [
    "Q11.Write a Python Program to count occurences of an element in a list ?"
   ]
  },
  {
   "cell_type": "code",
   "execution_count": 17,
   "id": "3b0ffe7a",
   "metadata": {},
   "outputs": [
    {
     "name": "stdout",
     "output_type": "stream",
     "text": [
      "Enter the elements of the list: [1,2,3,4,5,5,5,56,6,6,6]\n",
      "Enter the element to find: 6\n",
      "There are 3 occurences of 6 in [1, 2, 3, 4, 5, 5, 5, 56, 6, 6, 6]\n"
     ]
    }
   ],
   "source": [
    "def checkOccurence():\n",
    "    in_list = eval(input('Enter the elements of the list: '))\n",
    "    in_num = eval(input('Enter the element to find: '))\n",
    "    count = 0\n",
    "    if in_num in in_list:\n",
    "        for ele in in_list:\n",
    "            if ele == in_num:\n",
    "                count = count+1\n",
    "    print(f'There are {count} occurences of {in_num} in {in_list}')\n",
    "checkOccurence()"
   ]
  }
 ],
 "metadata": {
  "kernelspec": {
   "display_name": "Python 3 (ipykernel)",
   "language": "python",
   "name": "python3"
  },
  "language_info": {
   "codemirror_mode": {
    "name": "ipython",
    "version": 3
   },
   "file_extension": ".py",
   "mimetype": "text/x-python",
   "name": "python",
   "nbconvert_exporter": "python",
   "pygments_lexer": "ipython3",
   "version": "3.9.12"
  }
 },
 "nbformat": 4,
 "nbformat_minor": 5
}
